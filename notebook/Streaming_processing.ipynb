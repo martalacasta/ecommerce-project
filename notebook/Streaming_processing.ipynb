{
 "cells": [
  {
   "cell_type": "markdown",
   "id": "55db0978-7fa1-4936-9d14-b74e52dff1d4",
   "metadata": {},
   "source": [
    "<img width=\"200\" style=\"float:left\" \n",
    "     src=\"https://upload.wikimedia.org/wikipedia/commons/f/f3/Apache_Spark_logo.svg\" />"
   ]
  },
  {
   "cell_type": "markdown",
   "id": "d48db010-ce08-4e33-9fe0-ca5736c25830",
   "metadata": {},
   "source": [
    "# Data analytics with SPARK and GRAFANA"
   ]
  },
  {
   "cell_type": "markdown",
   "id": "ecaa557e-30ba-4bc9-9bf5-60f8ab37a37b",
   "metadata": {},
   "source": [
    "<a id='0'></a>\n",
    "## Objetive\n",
    "**Customer Understanding & Segmentation**  \n",
    "- Profile customers by age, gender, and spending patterns  \n",
    "- Track average purchase values and preferred payment methods  \n",
    "- Identify high-value customers and their shopping frequency\n",
    "\n",
    "**Product Category Performance**  \n",
    "- Measure revenue and profitability by category  \n",
    "- Monitor pricing effectiveness, return rates, and identify best-performing categories  \n",
    "- Analyze seasonal performance trends  \n",
    "\n",
    "**Sales and Revenue Optimization**  \n",
    "- Track total revenue and analyze transaction values  \n",
    "- Monitor payment method distribution and identify peak sales periods  \n",
    "- Calculate key metrics like average order value  \n",
    "\n",
    "These objectives drive actionable decisions for inventory management, marketing, and business growth."
   ]
  },
  {
   "cell_type": "markdown",
   "id": "2ad25a11-f2a8-474e-b647-beede9a3634c",
   "metadata": {},
   "source": [
    "**Environment**\n",
    "Configure the environment by removing pandas display limitations and allowing PySpark to connect to MariaDB using the necessary JDBC connector and Python interpreter path. Start Spark session."
   ]
  },
  {
   "cell_type": "code",
   "execution_count": 1,
   "id": "7312de3b-f4ad-439b-af58-8904d52a37aa",
   "metadata": {},
   "outputs": [],
   "source": [
    "import os\n",
    "\n",
    "os.environ['PYSPARK_SUBMIT_ARGS'] = '--packages \"org.mariadb.jdbc:mariadb-java-client:3.3.0\" pyspark-shell'\n",
    "os.environ['PYSPARK_PYTHON'] = '/home/osbdet/.jupyter_venv/bin/python'"
   ]
  },
  {
   "cell_type": "code",
   "execution_count": 2,
   "id": "b6be5d62-8408-4c99-aecb-b4dd4fd7a3d9",
   "metadata": {},
   "outputs": [],
   "source": [
    "import pandas as pd\n",
    "\n",
    "pd.set_option('display.max_colwidth', None)"
   ]
  },
  {
   "cell_type": "code",
   "execution_count": 3,
   "id": "c022fcea-69b6-4d73-992e-07c93ada99af",
   "metadata": {},
   "outputs": [
    {
     "name": "stderr",
     "output_type": "stream",
     "text": [
      "25/01/14 13:31:35 WARN Utils: Your hostname, osbdet resolves to a loopback address: 127.0.0.1; using 10.0.2.15 instead (on interface enp0s1)\n",
      "25/01/14 13:31:35 WARN Utils: Set SPARK_LOCAL_IP if you need to bind to another address\n",
      "Ivy Default Cache set to: /home/osbdet/.ivy2/cache\n",
      "The jars for the packages stored in: /home/osbdet/.ivy2/jars\n",
      "org.mariadb.jdbc#mariadb-java-client added as a dependency\n",
      ":: resolving dependencies :: org.apache.spark#spark-submit-parent-156a57a1-7ab9-4966-8643-e8cbb8089b90;1.0\n",
      "\tconfs: [default]\n"
     ]
    },
    {
     "name": "stdout",
     "output_type": "stream",
     "text": [
      ":: loading settings :: url = jar:file:/home/osbdet/.jupyter_venv/lib/python3.11/site-packages/pyspark/jars/ivy-2.5.1.jar!/org/apache/ivy/core/settings/ivysettings.xml\n"
     ]
    },
    {
     "name": "stderr",
     "output_type": "stream",
     "text": [
      "\tfound org.mariadb.jdbc#mariadb-java-client;3.3.0 in central\n",
      "\tfound com.github.waffle#waffle-jna;3.3.0 in central\n",
      "\tfound net.java.dev.jna#jna;5.13.0 in central\n",
      "\tfound net.java.dev.jna#jna-platform;5.13.0 in central\n",
      "\tfound org.slf4j#jcl-over-slf4j;2.0.7 in central\n",
      "\tfound org.slf4j#slf4j-api;2.0.7 in central\n",
      "\tfound com.github.ben-manes.caffeine#caffeine;2.9.3 in central\n",
      "\tfound com.google.errorprone#error_prone_annotations;2.10.0 in central\n",
      "\tfound org.checkerframework#checker-qual;3.32.0 in central\n",
      ":: resolution report :: resolve 288ms :: artifacts dl 14ms\n",
      "\t:: modules in use:\n",
      "\tcom.github.ben-manes.caffeine#caffeine;2.9.3 from central in [default]\n",
      "\tcom.github.waffle#waffle-jna;3.3.0 from central in [default]\n",
      "\tcom.google.errorprone#error_prone_annotations;2.10.0 from central in [default]\n",
      "\tnet.java.dev.jna#jna;5.13.0 from central in [default]\n",
      "\tnet.java.dev.jna#jna-platform;5.13.0 from central in [default]\n",
      "\torg.checkerframework#checker-qual;3.32.0 from central in [default]\n",
      "\torg.mariadb.jdbc#mariadb-java-client;3.3.0 from central in [default]\n",
      "\torg.slf4j#jcl-over-slf4j;2.0.7 from central in [default]\n",
      "\torg.slf4j#slf4j-api;2.0.7 from central in [default]\n",
      "\t:: evicted modules:\n",
      "\torg.checkerframework#checker-qual;3.19.0 by [org.checkerframework#checker-qual;3.32.0] in [default]\n",
      "\t---------------------------------------------------------------------\n",
      "\t|                  |            modules            ||   artifacts   |\n",
      "\t|       conf       | number| search|dwnlded|evicted|| number|dwnlded|\n",
      "\t---------------------------------------------------------------------\n",
      "\t|      default     |   10  |   0   |   0   |   1   ||   9   |   0   |\n",
      "\t---------------------------------------------------------------------\n",
      ":: retrieving :: org.apache.spark#spark-submit-parent-156a57a1-7ab9-4966-8643-e8cbb8089b90\n",
      "\tconfs: [default]\n",
      "\t0 artifacts copied, 9 already retrieved (0kB/5ms)\n",
      "25/01/14 13:31:35 WARN NativeCodeLoader: Unable to load native-hadoop library for your platform... using builtin-java classes where applicable\n",
      "Setting default log level to \"WARN\".\n",
      "To adjust logging level use sc.setLogLevel(newLevel). For SparkR, use setLogLevel(newLevel).\n"
     ]
    },
    {
     "name": "stdout",
     "output_type": "stream",
     "text": [
      "This cluster relies on Spark '3.5.0'\n"
     ]
    }
   ],
   "source": [
    "from pyspark.sql.session import SparkSession\n",
    "\n",
    "import pyspark.sql.functions as F\n",
    "import pyspark.sql.types as T\n",
    "\n",
    "# We need to set `spark.sql.caseSensitive` to true due to field 'e' and 'E' in\n",
    "# our dataset; without case sensitivity both fields would have the same name \n",
    "# and would produce an error.\n",
    "\n",
    "spark_session = \\\n",
    "  SparkSession.builder\\\n",
    "              .appName(\"ecommerce_analytics\")\\\n",
    "              .config(\"spark.sql.caseSensitive\", \"true\")\\\n",
    "              .getOrCreate()\n",
    "\n",
    "print(f\"This cluster relies on Spark '{spark_session.version}'\")"
   ]
  },
  {
   "cell_type": "markdown",
   "id": "fdca2003-2f63-40f9-b461-89d902b23584",
   "metadata": {},
   "source": [
    "<a id='2.1'></a>\n",
    "### DataFrame creation\n",
    "\n",
    "We need to tell the Spark Session **how to access MinIO**, our *S3 compatible object store*:"
   ]
  },
  {
   "cell_type": "code",
   "execution_count": 4,
   "id": "b3564993-da16-4a1b-9529-987c80e9e477",
   "metadata": {},
   "outputs": [],
   "source": [
    "spark_session.sparkContext._jsc.hadoopConfiguration().set(\"fs.s3a.access.key\", \"s3access\")\n",
    "spark_session.sparkContext._jsc.hadoopConfiguration().set(\"fs.s3a.secret.key\", \"_s3access123$\")\n",
    "spark_session.sparkContext._jsc.hadoopConfiguration().set(\"fs.s3a.path.style.access\", \"true\")\n",
    "spark_session.sparkContext._jsc.hadoopConfiguration().set(\"fs.s3a.impl\", \"org.apache.hadoop.fs.s3a.S3AFileSystem\")\n",
    "spark_session.sparkContext._jsc.hadoopConfiguration().set(\"fs.s3a.endpoint\", \"http://localhost:9000\")"
   ]
  },
  {
   "cell_type": "markdown",
   "id": "a05ace53-613b-487d-b8aa-ed3cfdc44cfd",
   "metadata": {},
   "source": [
    "We are now ready to **create the DataFrame on top of the data in MinIO**, which will allow us to *implement our use case*:"
   ]
  },
  {
   "cell_type": "code",
   "execution_count": 5,
   "id": "d3d06b5b-4f97-435e-9640-051bf029eb48",
   "metadata": {},
   "outputs": [
    {
     "name": "stderr",
     "output_type": "stream",
     "text": [
      "25/01/14 13:31:37 WARN MetricsConfig: Cannot locate configuration: tried hadoop-metrics2-s3a-file-system.properties,hadoop-metrics2.properties\n",
      "                                                                                \r"
     ]
    },
    {
     "name": "stdout",
     "output_type": "stream",
     "text": [
      "root\n",
      " |-- Customer Age: double (nullable = true)\n",
      " |-- Customer ID: long (nullable = true)\n",
      " |-- Gender: string (nullable = true)\n",
      " |-- Payment Method: string (nullable = true)\n",
      " |-- Product Category: string (nullable = true)\n",
      " |-- Product Price: double (nullable = true)\n",
      " |-- Quantity: long (nullable = true)\n",
      " |-- Returns: long (nullable = true)\n",
      " |-- Timestamp: string (nullable = true)\n",
      " |-- Total Purchase Amount: double (nullable = true)\n",
      "\n"
     ]
    }
   ],
   "source": [
    "synthetic_raw_df = spark_session.read\\\n",
    "                              .json(\"s3a://raw-synthetic/synthetic_data_*.json\")\n",
    "\n",
    "# Let's double check the inferred schema to understand whats in front of us.\n",
    "synthetic_raw_df.printSchema()"
   ]
  },
  {
   "cell_type": "code",
   "execution_count": 6,
   "id": "874a5e7a-f732-41de-8472-7a4397cc7fa3",
   "metadata": {},
   "outputs": [
    {
     "name": "stdout",
     "output_type": "stream",
     "text": [
      "Source data count: 126\n",
      "\n",
      "Source data sample:\n",
      "+-----------------+-----------+------+--------------+----------------+-------------+--------+-------+--------------------+---------------------+\n",
      "|     Customer Age|Customer ID|Gender|Payment Method|Product Category|Product Price|Quantity|Returns|           Timestamp|Total Purchase Amount|\n",
      "+-----------------+-----------+------+--------------+----------------+-------------+--------+-------+--------------------+---------------------+\n",
      "|40.75771835727266|      29627|Female|   Credit Card|            Home|        500.0|       4|      1|2025-01-10T19:55:...|   2603.8907954988026|\n",
      "|54.07769909125408|       7307|Female|        PayPal|     Electronics|         10.0|       5|      1|2025-01-10T19:56:...|   1657.7618313707655|\n",
      "+-----------------+-----------+------+--------------+----------------+-------------+--------+-------+--------------------+---------------------+\n",
      "only showing top 2 rows\n",
      "\n"
     ]
    }
   ],
   "source": [
    "print(\"Source data count:\", synthetic_raw_df.count())\n",
    "print(\"\\nSource data sample:\")\n",
    "synthetic_raw_df.show(2)"
   ]
  },
  {
   "cell_type": "markdown",
   "id": "cdd54c6c-c436-4217-863b-5e67802a7587",
   "metadata": {},
   "source": [
    "<a id='2.2'></a>\n",
    "### Initial shaping of the DataFrame to implement our use case"
   ]
  },
  {
   "cell_type": "code",
   "execution_count": 7,
   "id": "25798766-4995-4bbd-8ee0-ca5fe78162a7",
   "metadata": {},
   "outputs": [],
   "source": [
    "# Transform the DataFrame with proper names and types\n",
    "ecommerce_df = synthetic_raw_df.select(\n",
    "    F.col(\"Customer ID\").alias(\"customer_id\").cast(\"long\"),\n",
    "    F.col(\"Customer Age\").alias(\"customer_age\").cast(\"double\"),\n",
    "    F.col(\"Gender\").cast(\"string\"),\n",
    "    F.col(\"Payment Method\").alias(\"payment_method\").cast(\"string\"),\n",
    "    F.col(\"Product Category\").alias(\"product_category\").cast(\"string\"),\n",
    "    F.col(\"Product Price\").alias(\"product_price\").cast(\"double\"),\n",
    "    F.col(\"Quantity\").cast(\"long\"),\n",
    "    F.col(\"Returns\").cast(\"long\"),\n",
    "    F.col(\"Total Purchase Amount\").alias(\"total_purchase_amount\").cast(\"double\"),\n",
    "    F.col(\"Timestamp\").cast(\"timestamp\")  # Changed from string to timestamp\n",
    ")"
   ]
  },
  {
   "cell_type": "code",
   "execution_count": 8,
   "id": "b965c9e0-1222-4784-af05-d3bc44ea3bc7",
   "metadata": {},
   "outputs": [
    {
     "name": "stdout",
     "output_type": "stream",
     "text": [
      "root\n",
      " |-- customer_id: long (nullable = true)\n",
      " |-- customer_age: double (nullable = true)\n",
      " |-- Gender: string (nullable = true)\n",
      " |-- payment_method: string (nullable = true)\n",
      " |-- product_category: string (nullable = true)\n",
      " |-- product_price: double (nullable = true)\n",
      " |-- Quantity: long (nullable = true)\n",
      " |-- Returns: long (nullable = true)\n",
      " |-- total_purchase_amount: double (nullable = true)\n",
      " |-- Timestamp: timestamp (nullable = true)\n",
      "\n"
     ]
    }
   ],
   "source": [
    "# Review the intermediate schema you're building.\n",
    "ecommerce_df.printSchema()"
   ]
  },
  {
   "cell_type": "markdown",
   "id": "208f9f7f-1fb1-465b-be00-948dfdc385a4",
   "metadata": {},
   "source": [
    "<a id='2.3'></a>\n",
    "### Sales data bucketing into intervals of 1 hour"
   ]
  },
  {
   "cell_type": "code",
   "execution_count": 9,
   "id": "acb24dc9-2821-44ae-a69e-dac0f5dfe7a0",
   "metadata": {},
   "outputs": [],
   "source": [
    "# Create buckets\n",
    "ecommerce_bucketed_df = ecommerce_df.withColumn(\n",
    "    \"time_bucket\",\n",
    "    F.date_trunc(\"hour\", F.col(\"Timestamp\"))  # Use directly the Timestamp column\n",
    ").drop(\"Timestamp\")  "
   ]
  },
  {
   "cell_type": "code",
   "execution_count": 10,
   "id": "16c483e4-ea8e-4fee-8569-829c7f81ed54",
   "metadata": {},
   "outputs": [
    {
     "name": "stdout",
     "output_type": "stream",
     "text": [
      "DataFrame Schema:\n",
      "root\n",
      " |-- customer_id: long (nullable = true)\n",
      " |-- customer_age: double (nullable = true)\n",
      " |-- Gender: string (nullable = true)\n",
      " |-- payment_method: string (nullable = true)\n",
      " |-- product_category: string (nullable = true)\n",
      " |-- product_price: double (nullable = true)\n",
      " |-- Quantity: long (nullable = true)\n",
      " |-- Returns: long (nullable = true)\n",
      " |-- total_purchase_amount: double (nullable = true)\n",
      " |-- time_bucket: timestamp (nullable = true)\n",
      "\n",
      "\n",
      "Total number of records: 126\n",
      "\n",
      "Sample of data:\n",
      "+-----------+------------------+------+--------------+----------------+------------------+--------+-------+---------------------+-------------------+\n",
      "|customer_id|      customer_age|Gender|payment_method|product_category|     product_price|Quantity|Returns|total_purchase_amount|        time_bucket|\n",
      "+-----------+------------------+------+--------------+----------------+------------------+--------+-------+---------------------+-------------------+\n",
      "|      29627| 40.75771835727266|Female|   Credit Card|            Home|             500.0|       4|      1|   2603.8907954988026|2025-01-10 20:00:00|\n",
      "|       7307| 54.07769909125408|Female|        PayPal|     Electronics|              10.0|       5|      1|   1657.7618313707655|2025-01-10 20:00:00|\n",
      "|      38751| 51.22149476678753|Female|          Cash|           Books|369.63555852319917|       1|      0|    950.0987648206249|2025-01-10 20:00:00|\n",
      "|      50001|  44.2317838923552|  Male|          Cash|            Home|429.60877618594395|       5|      0|   1521.8869304005482|2025-01-10 20:00:00|\n",
      "|       8474|57.312450259522564|  Male|          Cash|     Electronics| 228.9991996013521|       2|   NULL|   1112.0368866184697|2025-01-10 20:00:00|\n",
      "+-----------+------------------+------+--------------+----------------+------------------+--------+-------+---------------------+-------------------+\n",
      "only showing top 5 rows\n",
      "\n",
      "\n",
      "Basic statistics:\n"
     ]
    },
    {
     "name": "stderr",
     "output_type": "stream",
     "text": [
      "25/01/14 13:32:25 WARN SparkStringUtils: Truncated the string representation of a plan since it was too large. This behavior can be adjusted by setting 'spark.sql.debug.maxToStringFields'.\n"
     ]
    },
    {
     "name": "stdout",
     "output_type": "stream",
     "text": [
      "+-------+------------------+------------------+------+--------------+----------------+------------------+------------------+------------------+---------------------+\n",
      "|summary|       customer_id|      customer_age|Gender|payment_method|product_category|     product_price|          Quantity|           Returns|total_purchase_amount|\n",
      "+-------+------------------+------------------+------+--------------+----------------+------------------+------------------+------------------+---------------------+\n",
      "|  count|               126|               126|   126|           126|             126|               126|               126|               106|                  126|\n",
      "|   mean| 28103.85714285714|46.534653531742094|  NULL|          NULL|            NULL|   273.11072151371|3.1507936507936507|0.4716981132075472|   2522.2533598833675|\n",
      "| stddev|13968.485324738273|13.765980154253576|  NULL|          NULL|            NULL|138.72815049268405|1.4145951240829882|0.5015698625755192|    1365.817033104756|\n",
      "|    min|              2014|              18.0|Female|          Cash|           Books|              10.0|                 1|                 0|                100.0|\n",
      "|    max|             50001|              70.0|  Male|        PayPal|            Home|             500.0|                 5|                 1|               5350.0|\n",
      "+-------+------------------+------------------+------+--------------+----------------+------------------+------------------+------------------+---------------------+\n",
      "\n"
     ]
    }
   ],
   "source": [
    "# Check the schema structure\n",
    "print(\"DataFrame Schema:\")\n",
    "ecommerce_bucketed_df.printSchema()\n",
    "\n",
    "#  Check number of rows\n",
    "print(\"\\nTotal number of records:\", ecommerce_bucketed_df.count())\n",
    "\n",
    "# Look at sample data (first 5 rows)\n",
    "print(\"\\nSample of data:\")\n",
    "ecommerce_bucketed_df.show(5)\n",
    "\n",
    "# Get basic statistics\n",
    "print(\"\\nBasic statistics:\")\n",
    "ecommerce_bucketed_df.describe().show()"
   ]
  },
  {
   "cell_type": "markdown",
   "id": "2f307c7c-2d94-423d-95ee-2d2a12a2e633",
   "metadata": {},
   "source": [
    "### Create new dataframe for agreggated metrics inclluding categories and customers"
   ]
  },
  {
   "cell_type": "code",
   "execution_count": 11,
   "id": "57c32ea6-83a7-4bea-ad7f-82cf3d9076c0",
   "metadata": {},
   "outputs": [
    {
     "name": "stdout",
     "output_type": "stream",
     "text": [
      "\n",
      "CATEGORY METRICS:\n",
      "Number of records: 33\n",
      "\n",
      "Schema:\n",
      "root\n",
      " |-- product_category: string (nullable = true)\n",
      " |-- time_bucket: timestamp (nullable = true)\n",
      " |-- unique_customers: long (nullable = false)\n",
      " |-- total_revenue: double (nullable = true)\n",
      " |-- avg_price: double (nullable = true)\n",
      " |-- total_quantity: long (nullable = true)\n",
      " |-- total_returns: long (nullable = true)\n",
      "\n",
      "\n",
      "Sample data:\n",
      "+----------------+-------------------+----------------+------------------+------------------+--------------+-------------+\n",
      "|product_category|        time_bucket|unique_customers|     total_revenue|         avg_price|total_quantity|total_returns|\n",
      "+----------------+-------------------+----------------+------------------+------------------+--------------+-------------+\n",
      "|     Electronics|2025-01-10 21:00:00|               6|11270.763396404705| 341.7803635973901|            16|            1|\n",
      "|            Home|2025-01-09 20:00:00|               6|12262.784723079485| 274.5063781064674|            19|            2|\n",
      "|        Clothing|2025-01-10 21:00:00|               5|12769.918995999655|302.37018109248555|            15|            2|\n",
      "|            Home|2025-01-10 20:00:00|               3| 4934.453705040595| 432.8838179830964|            12|            1|\n",
      "|            Home|2025-01-11 00:00:00|               5|11631.103413336197|262.76213835473453|            15|            0|\n",
      "+----------------+-------------------+----------------+------------------+------------------+--------------+-------------+\n",
      "only showing top 5 rows\n",
      "\n",
      "\n",
      "CLIENT PROFILES:\n",
      "Number of records: 126\n",
      "\n",
      "Schema:\n",
      "root\n",
      " |-- customer_id: long (nullable = true)\n",
      " |-- Gender: string (nullable = true)\n",
      " |-- customer_age: double (nullable = true)\n",
      " |-- avg_purchase_price: double (nullable = true)\n",
      " |-- avg_transaction_value: double (nullable = true)\n",
      " |-- total_transactions: long (nullable = false)\n",
      " |-- preferred_payment: string (nullable = true)\n",
      " |-- total_returns: long (nullable = true)\n",
      "\n",
      "\n",
      "Sample data:\n",
      "+-----------+------+------------------+------------------+---------------------+------------------+-----------------+-------------+\n",
      "|customer_id|Gender|      customer_age|avg_purchase_price|avg_transaction_value|total_transactions|preferred_payment|total_returns|\n",
      "+-----------+------+------------------+------------------+---------------------+------------------+-----------------+-------------+\n",
      "|       2014|  Male| 29.56689490283788| 340.2904922203002|   2102.1131950469685|                 1|           PayPal|            0|\n",
      "|       2960|Female| 40.56226761293507|235.31467313128292|   1228.8917916498608|                 1|             Cash|            1|\n",
      "|       4079|  Male|38.240908554128005| 140.2905796088578|               5350.0|                 1|             Cash|            0|\n",
      "|       4381|  Male|              70.0|173.73827585499447|    3111.705302624265|                 1|           PayPal|            1|\n",
      "|       4663|Female| 50.92106040346008|             500.0|     4503.59234213638|                 1|             Cash|            1|\n",
      "+-----------+------+------------------+------------------+---------------------+------------------+-----------------+-------------+\n",
      "only showing top 5 rows\n",
      "\n",
      "\n",
      "BASIC STATISTICS:\n",
      "Category Metrics Stats:\n",
      "+-------+----------------+------------------+-----------------+------------------+------------------+------------------+\n",
      "|summary|product_category|  unique_customers|    total_revenue|         avg_price|    total_quantity|     total_returns|\n",
      "+-------+----------------+------------------+-----------------+------------------+------------------+------------------+\n",
      "|  count|              33|                33|               33|                33|                33|                33|\n",
      "|   mean|            NULL|3.8181818181818183|9630.421919554676|268.52923581883266|12.030303030303031|1.5151515151515151|\n",
      "| stddev|            NULL| 2.603537802857698|7205.579115244426| 98.25847802650908|  8.47232571554606| 1.416889465546186|\n",
      "|    min|           Books|                 1|986.5465207083535|  82.9997332004507|                 1|                 0|\n",
      "|    max|            Home|                 9|27080.38634320796| 496.0053534226927|                30|                 6|\n",
      "+-------+----------------+------------------+-----------------+------------------+------------------+------------------+\n",
      "\n",
      "\n",
      "Client Profiles Stats:\n",
      "+-------+-----------------+------+------------------+------------------+---------------------+------------------+-----------------+------------------+\n",
      "|summary|      customer_id|Gender|      customer_age|avg_purchase_price|avg_transaction_value|total_transactions|preferred_payment|     total_returns|\n",
      "+-------+-----------------+------+------------------+------------------+---------------------+------------------+-----------------+------------------+\n",
      "|  count|              126|   126|               126|               126|                  126|               126|              126|               106|\n",
      "|   mean|28103.85714285714|  NULL| 46.53465353174209|273.11072151370996|    2522.253359883368|               1.0|             NULL|0.4716981132075472|\n",
      "| stddev|13968.48532473827|  NULL|13.765980154253576|138.72815049268408|   1365.8170331047559|               0.0|             NULL|0.5015698625755193|\n",
      "|    min|             2014|Female|              18.0|              10.0|                100.0|                 1|             Cash|                 0|\n",
      "|    max|            50001|  Male|              70.0|             500.0|               5350.0|                 1|           PayPal|                 1|\n",
      "+-------+-----------------+------+------------------+------------------+---------------------+------------------+-----------------+------------------+\n",
      "\n",
      "\n",
      "Top Categories by Revenue:\n",
      "+----------------+-------------------+----------------+------------------+------------------+--------------+-------------+\n",
      "|product_category|        time_bucket|unique_customers|     total_revenue|         avg_price|total_quantity|total_returns|\n",
      "+----------------+-------------------+----------------+------------------+------------------+--------------+-------------+\n",
      "|     Electronics|2025-01-09 20:00:00|               9| 27080.38634320796| 260.0522356859309|            27|            2|\n",
      "|            Home|2025-01-10 21:00:00|               8|24571.706095964026|284.86464741213274|            24|            2|\n",
      "|           Books|2025-01-10 21:00:00|               8|24094.819691997283|263.28616359807654|            30|            2|\n",
      "|     Electronics|2025-01-13 21:00:00|               8| 20713.39844802805|281.30484646400294|            26|            3|\n",
      "|        Clothing|2025-01-09 20:00:00|               9|19514.360888512543|240.04836103242192|            28|            2|\n",
      "+----------------+-------------------+----------------+------------------+------------------+--------------+-------------+\n",
      "only showing top 5 rows\n",
      "\n",
      "\n",
      "Top Customers by Transaction Value:\n",
      "+-----------+------+------------------+------------------+---------------------+------------------+-----------------+-------------+\n",
      "|customer_id|Gender|      customer_age|avg_purchase_price|avg_transaction_value|total_transactions|preferred_payment|total_returns|\n",
      "+-----------+------+------------------+------------------+---------------------+------------------+-----------------+-------------+\n",
      "|       4079|  Male|38.240908554128005| 140.2905796088578|               5350.0|                 1|             Cash|            0|\n",
      "|       9966|  Male|47.657391926671416|418.87914408416543|               5350.0|                 1|           PayPal|         NULL|\n",
      "|      24094|  Male|42.729715972022674|  93.3407820841401|               5350.0|                 1|      Credit Card|            0|\n",
      "|      36334|Female|              70.0| 291.5577847177128|               5350.0|                 1|           PayPal|         NULL|\n",
      "|      26887|  Male|59.672265544835525| 359.5635933932476|    5074.293863978512|                 1|             Cash|            1|\n",
      "+-----------+------+------------------+------------------+---------------------+------------------+-----------------+-------------+\n",
      "only showing top 5 rows\n",
      "\n"
     ]
    }
   ],
   "source": [
    "\n",
    "# New dataframe for categories\n",
    "category_metrics_df = ecommerce_bucketed_df.groupBy(\n",
    "    \"product_category\", \n",
    "    \"time_bucket\"\n",
    ").agg(\n",
    "    F.countDistinct(\"customer_id\").alias(\"unique_customers\"),\n",
    "    F.sum(\"total_purchase_amount\").alias(\"total_revenue\"),\n",
    "    F.avg(\"product_price\").alias(\"avg_price\"),\n",
    "    F.sum(\"Quantity\").alias(\"total_quantity\"),\n",
    "    F.sum(\"Returns\").alias(\"total_returns\"),\n",
    ")\n",
    "\n",
    "print(\"\\nCATEGORY METRICS:\")\n",
    "print(\"Number of records:\", category_metrics_df.count())\n",
    "print(\"\\nSchema:\")\n",
    "category_metrics_df.printSchema()\n",
    "print(\"\\nSample data:\")\n",
    "category_metrics_df.show(5)\n",
    "\n",
    "# New dataframe for categories\n",
    "client_profiles_df = ecommerce_bucketed_df.groupBy(\n",
    "    \"customer_id\",\n",
    "    \"Gender\",\n",
    "    \"customer_age\"\n",
    ").agg(\n",
    "    F.avg(\"product_price\").alias(\"avg_purchase_price\"),\n",
    "    F.avg(\"total_purchase_amount\").alias(\"avg_transaction_value\"),\n",
    "    F.count(\"*\").alias(\"total_transactions\"),\n",
    "    F.first(\"payment_method\").alias(\"preferred_payment\"),\n",
    "    F.sum(\"Returns\").alias(\"total_returns\")\n",
    ")\n",
    "\n",
    "print(\"\\nCLIENT PROFILES:\")\n",
    "print(\"Number of records:\", client_profiles_df.count())\n",
    "print(\"\\nSchema:\")\n",
    "client_profiles_df.printSchema()\n",
    "print(\"\\nSample data:\")\n",
    "client_profiles_df.show(5)\n",
    "\n",
    "# Basic statistics for each DataFrame\n",
    "print(\"\\nBASIC STATISTICS:\")\n",
    "print(\"Category Metrics Stats:\")\n",
    "category_metrics_df.describe().show()\n",
    "\n",
    "print(\"\\nClient Profiles Stats:\")\n",
    "client_profiles_df.describe().show()\n",
    "\n",
    "# Example filters and sorts\n",
    "print(\"\\nTop Categories by Revenue:\")\n",
    "category_metrics_df.orderBy(F.col(\"total_revenue\").desc()).show(5)\n",
    "\n",
    "print(\"\\nTop Customers by Transaction Value:\")\n",
    "client_profiles_df.orderBy(F.col(\"avg_transaction_value\").desc()).show(5)"
   ]
  },
  {
   "cell_type": "markdown",
   "id": "4802b4b3-e2bc-492e-8b62-adedc5416db7",
   "metadata": {},
   "source": [
    "**Before we can store results in a relational database, we need to create the destination *database* and *table*.** The `dataservingdb_indicators.sql` file contains the SQL code to do so:\n",
    "\n",
    "```\n",
    "-- Final Assignment SQL Script\n",
    "-- Created: 2025-01-09\n",
    "\n",
    "-- Drop the database if it exists\n",
    "DROP DATABASE IF EXISTS final_assignment;\n",
    "\n",
    "-- Create the database\n",
    "CREATE DATABASE final_assignment;\n",
    "\n",
    "-- Switch to the newly created database\n",
    "USE final_assignment;\n",
    "\n",
    "-- Drop views if they exist\n",
    "DROP VIEW IF EXISTS category_metrics;\n",
    "DROP VIEW IF EXISTS client_profiles;\n",
    "\n",
    "-- Drop the tables if they exist\n",
    "DROP TABLE IF EXISTS ecommerce_events;\n",
    "DROP TABLE IF EXISTS category_metrics;\n",
    "DROP TABLE IF EXISTS client_profiles;\n",
    "\n",
    "-- Create the e-commerce events table\n",
    "CREATE TABLE ecommerce_events (\n",
    "    id BIGINT AUTO_INCREMENT,\n",
    "    customer_id BIGINT,\n",
    "    customer_age DOUBLE,\n",
    "    gender VARCHAR(50),\n",
    "    payment_method VARCHAR(100),\n",
    "    product_category VARCHAR(100),\n",
    "    product_price DOUBLE,\n",
    "    quantity BIGINT,\n",
    "    returns BIGINT,\n",
    "    event_timestamp TIMESTAMP,\n",
    "    total_purchase_amount DOUBLE,\n",
    "    time_bucket TIMESTAMP,\n",
    "    PRIMARY KEY (id),\n",
    "    INDEX idx_time_bucket (time_bucket),\n",
    "    INDEX idx_customer (customer_id),\n",
    "    INDEX idx_category (product_category)\n",
    ");\n",
    "\n",
    "-- Create the category metrics table\n",
    "CREATE TABLE category_metrics (\n",
    "    id BIGINT AUTO_INCREMENT,\n",
    "    product_category VARCHAR(100),\n",
    "    time_bucket TIMESTAMP,\n",
    "    unique_customers BIGINT,\n",
    "    total_revenue DOUBLE,\n",
    "    avg_price DOUBLE,\n",
    "    total_quantity BIGINT,\n",
    "    total_returns BIGINT,\n",
    "    PRIMARY KEY (id),\n",
    "    INDEX idx_category (product_category),\n",
    "    INDEX idx_time (time_bucket)\n",
    ");\n",
    "\n",
    "-- Create the client profiles table\n",
    "CREATE TABLE client_profiles (\n",
    "    id BIGINT AUTO_INCREMENT,\n",
    "    customer_id BIGINT,\n",
    "    gender VARCHAR(50),\n",
    "    customer_age DOUBLE,\n",
    "    avg_purchase_price DOUBLE,\n",
    "    avg_transaction_value DOUBLE,\n",
    "    total_transactions BIGINT,\n",
    "    preferred_payment VARCHAR(100),\n",
    "    total_returns BIGINT,\n",
    "    PRIMARY KEY (id),\n",
    "    INDEX idx_customer (customer_id)\n",
    ");\n",
    "```\n",
    "\n",
    "We'll use the `mariadb` command line tool by opening a *Terminal* window from Jupyter and running the SQL script like this (don't copy the $ sign):\n",
    "\n",
    "```\n",
    "$ cd /home/osbdet/notebooks/mda2/FINALWORK\n",
    "$ mariadb -u osbdet -p < final-assignment-sql.sql\n",
    "```\n",
    "**Note:** type `osbdet123$` **WHEN** you're asked for the password; remember that nothing will come up while typing, it's a security feature."
   ]
  },
  {
   "cell_type": "markdown",
   "id": "b299a1ec-5eff-4553-98d8-ebdf7ce399c4",
   "metadata": {},
   "source": [
    "<a id='5'></a>\n",
    "## Results of the Spark analysis into MariaDB"
   ]
  },
  {
   "cell_type": "code",
   "execution_count": 13,
   "id": "50f8a6c7-c315-4fc4-882e-7e7051e19599",
   "metadata": {},
   "outputs": [
    {
     "name": "stdout",
     "output_type": "stream",
     "text": [
      "Category Metrics Data:\n",
      "+----------------+-------------------+----------------+------------------+------------------+--------------+-------------+\n",
      "|product_category|        time_bucket|unique_customers|     total_revenue|         avg_price|total_quantity|total_returns|\n",
      "+----------------+-------------------+----------------+------------------+------------------+--------------+-------------+\n",
      "|     Electronics|2025-01-10 21:00:00|               6|11270.763396404705| 341.7803635973901|            16|            1|\n",
      "|            Home|2025-01-09 20:00:00|               6|12262.784723079485| 274.5063781064674|            19|            2|\n",
      "|        Clothing|2025-01-10 21:00:00|               5|12769.918995999655|302.37018109248555|            15|            2|\n",
      "|            Home|2025-01-10 20:00:00|               3| 4934.453705040595| 432.8838179830964|            12|            1|\n",
      "|            Home|2025-01-11 00:00:00|               5|11631.103413336197|262.76213835473453|            15|            0|\n",
      "+----------------+-------------------+----------------+------------------+------------------+--------------+-------------+\n",
      "only showing top 5 rows\n",
      "\n",
      "\n",
      "Client Profiles Data:\n",
      "+-----------+------+------------------+------------------+---------------------+------------------+-----------------+-------------+\n",
      "|customer_id|Gender|      customer_age|avg_purchase_price|avg_transaction_value|total_transactions|preferred_payment|total_returns|\n",
      "+-----------+------+------------------+------------------+---------------------+------------------+-----------------+-------------+\n",
      "|       2014|  Male| 29.56689490283788| 340.2904922203002|   2102.1131950469685|                 1|           PayPal|            0|\n",
      "|       2960|Female| 40.56226761293507|235.31467313128292|   1228.8917916498608|                 1|             Cash|            1|\n",
      "|       4079|  Male|38.240908554128005| 140.2905796088578|               5350.0|                 1|             Cash|            0|\n",
      "|       4381|  Male|              70.0|173.73827585499447|    3111.705302624265|                 1|           PayPal|            1|\n",
      "|       4663|Female| 50.92106040346008|             500.0|     4503.59234213638|                 1|             Cash|            1|\n",
      "+-----------+------+------------------+------------------+---------------------+------------------+-----------------+-------------+\n",
      "only showing top 5 rows\n",
      "\n"
     ]
    }
   ],
   "source": [
    "# Write to MariaDB\n",
    "driver_name = \"org.mariadb.jdbc.Driver\"\n",
    "connection_string = \"jdbc:mariadb://localhost:3306/final_assignment\"\n",
    "table_name = \"ecommerce_events\"\n",
    "user_name = \"osbdet\"\n",
    "password = \"osbdet123$\"\n",
    "\n",
    "(ecommerce_bucketed_df.write\n",
    "    .format(\"jdbc\")\n",
    "    .mode(\"overwrite\")\n",
    "    .option(\"driver\", driver_name)\n",
    "    .option(\"url\", connection_string)\n",
    "    .option(\"dbtable\", table_name)\n",
    "    .option(\"user\", user_name)\n",
    "    .option(\"password\", password)\n",
    "    .option(\"batchsize\", 1000)\n",
    "    .option(\"truncate\", \"true\")\n",
    "    .option(\"numPartitions\", 4)\n",
    "    .save())\n",
    "\n",
    "# Write category_metrics to MariaDB\n",
    "(category_metrics_df.write\n",
    "    .format(\"jdbc\")\n",
    "    .mode(\"overwrite\")\n",
    "    .option(\"driver\", driver_name)\n",
    "    .option(\"url\", connection_string)\n",
    "    .option(\"dbtable\", \"category_metrics\")\n",
    "    .option(\"user\", user_name)\n",
    "    .option(\"password\", password)\n",
    "    .option(\"batchsize\", 1000)\n",
    "    .option(\"truncate\", \"true\")\n",
    "    .save())\n",
    "\n",
    "# Write client_profiles to MariaDB\n",
    "(client_profiles_df.write\n",
    "    .format(\"jdbc\")\n",
    "    .mode(\"overwrite\")\n",
    "    .option(\"driver\", driver_name)\n",
    "    .option(\"url\", connection_string)\n",
    "    .option(\"dbtable\", \"client_profiles\")\n",
    "    .option(\"user\", user_name)\n",
    "    .option(\"password\", password)\n",
    "    .option(\"batchsize\", 1000)\n",
    "    .option(\"truncate\", \"true\")\n",
    "    .save())\n",
    "\n",
    "# Verify the writes by reading back and showing data\n",
    "print(\"Category Metrics Data:\")\n",
    "category_metrics_df.show(5)\n",
    "\n",
    "print(\"\\nClient Profiles Data:\")\n",
    "client_profiles_df.show(5)"
   ]
  },
  {
   "cell_type": "markdown",
   "id": "ab70eaaf-493b-420f-9649-cab7ad294d8e",
   "metadata": {},
   "source": [
    "<a id='5.1'></a>\n",
    "### Verify the contents of the *ecommerce events* table"
   ]
  },
  {
   "cell_type": "markdown",
   "id": "2096b706-6495-4bec-9ac3-56fb35faf5c6",
   "metadata": {},
   "source": [
    "\n",
    "```\n",
    "$ mariadb -u osbdet -p -D final_assignment -e \"SELECT * FROM ecommerce_events ORDER BY time_bucket DESC LIMIT 20;\"\n",
    "```\n",
    "**Note:** type `osbdet123$` **WHEN** you're asked for the password; remember that nothing will come up while typing, it's a security feature."
   ]
  },
  {
   "cell_type": "code",
   "execution_count": null,
   "id": "ff3491e1-632d-49fe-bc47-a6b311574345",
   "metadata": {},
   "outputs": [],
   "source": []
  }
 ],
 "metadata": {
  "kernelspec": {
   "display_name": "Python 3 (ipykernel)",
   "language": "python",
   "name": "python3"
  },
  "language_info": {
   "codemirror_mode": {
    "name": "ipython",
    "version": 3
   },
   "file_extension": ".py",
   "mimetype": "text/x-python",
   "name": "python",
   "nbconvert_exporter": "python",
   "pygments_lexer": "ipython3",
   "version": "3.11.2"
  }
 },
 "nbformat": 4,
 "nbformat_minor": 5
}
